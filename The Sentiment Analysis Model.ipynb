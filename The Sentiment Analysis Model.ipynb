{
 "cells": [
  {
   "cell_type": "code",
   "execution_count": 12,
   "metadata": {},
   "outputs": [
    {
     "name": "stdout",
     "output_type": "stream",
     "text": [
      "Positive: 27.27% (33/121)\n",
      "Neutral: 48.76% (59/121)\n",
      "Negative: 23.97% (29/121)\n"
     ]
    }
   ],
   "source": [
    "from textblob import TextBlob\n",
    "\n",
    "# Open the file manually and read its content\n",
    "file_path = \"reviews_swiss_aircraft.txt\"\n",
    "file = open(file_path, \"r\", encoding=\"utf-8\")\n",
    "content = file.read()\n",
    "file.close()\n",
    "\n",
    "# Split reviews by paragraphs\n",
    "reviews = [review.strip() for review in content.split(\"\\n\") if review.strip()]\n",
    "\n",
    "# Analyze sentiment and classify\n",
    "results = {\"Positive\": 0, \"Neutral\": 0, \"Negative\": 0}\n",
    "\n",
    "for review in reviews:\n",
    "    sentiment_score = TextBlob(review).sentiment.polarity\n",
    "    if sentiment_score > 0.1:\n",
    "        results[\"Positive\"] += 1\n",
    "    elif sentiment_score < -0.1:\n",
    "        results[\"Negative\"] += 1\n",
    "    else:\n",
    "        results[\"Neutral\"] += 1\n",
    "\n",
    "# Calculate and print percentages\n",
    "total = sum(results.values())\n",
    "for sentiment, count in results.items():\n",
    "    print(f\"{sentiment}: {count / total * 100:.2f}% ({count}/{total})\")"
   ]
  },
  {
   "cell_type": "code",
   "execution_count": null,
   "metadata": {},
   "outputs": [],
   "source": [
    "echo \"\"\"46.166.139.20 - - [29/Nov/2015:22:59:26 +0000] \"POST /xmlrpc.php HTTP/1.0\" 200 370 \"-\" \"Mozilla/4.0 (compatible: MSIE 7.0; Windows NT 6.0)\"\"\" >> spool2/log22.txt\n"
   ]
  }
 ],
 "metadata": {
  "kernelspec": {
   "display_name": "work",
   "language": "python",
   "name": "python3"
  },
  "language_info": {
   "codemirror_mode": {
    "name": "ipython",
    "version": 3
   },
   "file_extension": ".py",
   "mimetype": "text/x-python",
   "name": "python",
   "nbconvert_exporter": "python",
   "pygments_lexer": "ipython3",
   "version": "3.11.7"
  }
 },
 "nbformat": 4,
 "nbformat_minor": 2
}
